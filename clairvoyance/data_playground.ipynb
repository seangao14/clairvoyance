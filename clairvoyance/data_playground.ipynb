{
 "metadata": {
  "language_info": {
   "codemirror_mode": {
    "name": "ipython",
    "version": 3
   },
   "file_extension": ".py",
   "mimetype": "text/x-python",
   "name": "python",
   "nbconvert_exporter": "python",
   "pygments_lexer": "ipython3",
   "version": "3.8.2-final"
  },
  "orig_nbformat": 2,
  "kernelspec": {
   "name": "python3",
   "display_name": "Python 3"
  }
 },
 "nbformat": 4,
 "nbformat_minor": 2,
 "cells": [
  {
   "cell_type": "code",
   "execution_count": 1,
   "metadata": {},
   "outputs": [],
   "source": [
    "import requests\n",
    "import json\n",
    "import numpy as np\n",
    "import pandas as pd\n",
    "import time\n",
    "import pickle\n",
    "from tqdm import tqdm\n",
    "\n",
    "from riot_api_helpers import *"
   ]
  },
  {
   "cell_type": "code",
   "execution_count": 2,
   "metadata": {},
   "outputs": [],
   "source": [
    "from config import key"
   ]
  },
  {
   "cell_type": "code",
   "execution_count": 3,
   "metadata": {},
   "outputs": [],
   "source": [
    "challengers = get_challengers(key)"
   ]
  },
  {
   "cell_type": "code",
   "execution_count": 4,
   "metadata": {},
   "outputs": [],
   "source": [
    "challenger_names = [i['summonerName'] for i in challengers['entries']]"
   ]
  },
  {
   "cell_type": "code",
   "execution_count": 10,
   "metadata": {},
   "outputs": [
    {
     "output_type": "stream",
     "name": "stderr",
     "text": [
      "100%|██████████| 300/300 [07:06<00:00,  1.42s/it]\n"
     ]
    }
   ],
   "source": [
    "accountIds = []\n",
    "\n",
    "for name in tqdm(challenger_names):\n",
    "    try:\n",
    "        time.sleep(1.21)\n",
    "        id = get_summoner(key, name)['accountId']\n",
    "        accountIds.append(id)\n",
    "    except:\n",
    "        time.sleep(10)"
   ]
  },
  {
   "cell_type": "code",
   "execution_count": 11,
   "metadata": {},
   "outputs": [],
   "source": [
    "pickle.dump(accountIds, open('data/accountIds.p', 'wb'))"
   ]
  },
  {
   "cell_type": "code",
   "execution_count": 12,
   "metadata": {},
   "outputs": [
    {
     "output_type": "stream",
     "name": "stderr",
     "text": [
      "100%|██████████| 298/298 [07:25<00:00,  1.49s/it]\n"
     ]
    }
   ],
   "source": [
    "gameIds = []\n",
    "\n",
    "for idx in tqdm(accountIds):\n",
    "    try:\n",
    "        time.sleep(1.21)\n",
    "        matches = get_matchlist(key, idx)\n",
    "        for match in matches['matches']:\n",
    "            if match['queue'] == 420 and match['gameId'] not in gameIds:\n",
    "                gameIds.append(match['gameId'])\n",
    "    except:\n",
    "        time.sleep(10)"
   ]
  },
  {
   "cell_type": "code",
   "execution_count": 14,
   "metadata": {},
   "outputs": [],
   "source": [
    "pickle.dump(gameIds, open('data/gameIds.p', 'wb'))"
   ]
  }
 ]
}