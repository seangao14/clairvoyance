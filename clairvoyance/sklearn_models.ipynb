{
 "metadata": {
  "language_info": {
   "codemirror_mode": {
    "name": "ipython",
    "version": 3
   },
   "file_extension": ".py",
   "mimetype": "text/x-python",
   "name": "python",
   "nbconvert_exporter": "python",
   "pygments_lexer": "ipython3",
   "version": "3.8.2-final"
  },
  "orig_nbformat": 2,
  "kernelspec": {
   "name": "python3",
   "display_name": "Python 3"
  }
 },
 "nbformat": 4,
 "nbformat_minor": 2,
 "cells": [
  {
   "cell_type": "code",
   "execution_count": 1,
   "metadata": {},
   "outputs": [],
   "source": [
    "import numpy as np\n",
    "from sklearn.model_selection import train_test_split"
   ]
  },
  {
   "cell_type": "code",
   "execution_count": 2,
   "metadata": {},
   "outputs": [],
   "source": [
    "X = np.load('data/training/X.npy', allow_pickle=True)\n",
    "y = np.load('data/training/y.npy', allow_pickle=True)\n",
    "train_X, test_X, train_y, test_y = train_test_split(X, y, test_size=0.2)"
   ]
  },
  {
   "cell_type": "code",
   "execution_count": 6,
   "metadata": {},
   "outputs": [
    {
     "output_type": "stream",
     "name": "stdout",
     "text": [
      "Train Acc: 0.7460\nTest Acc: 0.7442\n"
     ]
    }
   ],
   "source": [
    "from sklearn.linear_model import LinearRegression\n",
    "\n",
    "lr = LinearRegression()\n",
    "lr.fit(train_X, train_y)\n",
    "\n",
    "outputs = np.round(lr.predict(train_X))\n",
    "train_accuracy = (outputs == train_y).mean()\n",
    "print(f'Train Acc: {train_accuracy:.4f}')\n",
    "\n",
    "outputs = np.round(lr.predict(test_X))\n",
    "test_accuracy = (outputs == test_y).mean()\n",
    "print(f'Test Acc: {test_accuracy:.4f}')"
   ]
  },
  {
   "cell_type": "code",
   "execution_count": 7,
   "metadata": {},
   "outputs": [
    {
     "output_type": "stream",
     "name": "stdout",
     "text": [
      "Train Acc: 1.0000\n",
      "Test Acc: 0.9012\n"
     ]
    }
   ],
   "source": [
    "# DONT RUN THIS TAKES LIKE 5 HOURS\n",
    "from sklearn.ensemble import RandomForestRegressor\n",
    "\n",
    "rfr = RandomForestRegressor()\n",
    "rfr.fit(train_X, train_y)\n",
    "\n",
    "outputs = np.round(rfr.predict(train_X))\n",
    "train_accuracy = (outputs == train_y).mean()\n",
    "print(f'Train Acc: {train_accuracy:.4f}')\n",
    "\n",
    "outputs = np.round(rfr.predict(test_X))\n",
    "test_accuracy = (outputs == test_y).mean()\n",
    "print(f'Test Acc: {test_accuracy:.4f}')"
   ]
  }
 ]
}